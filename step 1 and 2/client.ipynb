{
 "cells": [
  {
   "cell_type": "code",
   "execution_count": 6,
   "id": "78d2d7cd",
   "metadata": {
    "tags": []
   },
   "outputs": [
    {
     "name": "stdin",
     "output_type": "stream",
     "text": [
      "Client's message to the server: Hello server\n",
      "Append the number of characters to the message? no\n"
     ]
    },
    {
     "name": "stdout",
     "output_type": "stream",
     "text": [
      "Send the following message to the server: Hello server\n",
      "User input after encoding: b'Hello server'\n",
      "The server sent data len: 14\n",
      " data: wrong protocol\n"
     ]
    },
    {
     "name": "stdin",
     "output_type": "stream",
     "text": [
      "Client's message to the server: TIME \n",
      "Append the number of characters to the message? no\n"
     ]
    },
    {
     "name": "stdout",
     "output_type": "stream",
     "text": [
      "Send the following message to the server: TIME \n",
      "User input after encoding: b'TIME '\n",
      "The server sent data len: 14\n",
      " data: wrong protocol\n"
     ]
    },
    {
     "name": "stdin",
     "output_type": "stream",
     "text": [
      "Client's message to the server: TIME\n",
      "Append the number of characters to the message? yes\n"
     ]
    },
    {
     "name": "stdout",
     "output_type": "stream",
     "text": [
      "Send the following message to the server: 04TIME\n",
      "User input after encoding: b'04TIME'\n",
      "The server sent data len: 19\n",
      " data: 2024-02-09 11:55:12\n"
     ]
    },
    {
     "name": "stdin",
     "output_type": "stream",
     "text": [
      "Client's message to the server: WHORU\n",
      "Append the number of characters to the message? yes\n"
     ]
    },
    {
     "name": "stdout",
     "output_type": "stream",
     "text": [
      "Send the following message to the server: 05WHORU\n",
      "User input after encoding: b'05WHORU'\n",
      "The server sent data len: 26\n",
      " data: I am the best server ever!\n"
     ]
    },
    {
     "name": "stdin",
     "output_type": "stream",
     "text": [
      "Client's message to the server: WHORU\n",
      "Append the number of characters to the message? no\n"
     ]
    },
    {
     "name": "stdout",
     "output_type": "stream",
     "text": [
      "Send the following message to the server: WHORU\n",
      "User input after encoding: b'WHORU'\n",
      "The server sent data len: 14\n",
      " data: wrong protocol\n"
     ]
    },
    {
     "name": "stdin",
     "output_type": "stream",
     "text": [
      "Client's message to the server: EXIT\n",
      "Append the number of characters to the message? yes\n"
     ]
    },
    {
     "name": "stdout",
     "output_type": "stream",
     "text": [
      "Send the following message to the server: 04EXIT\n",
      "User input after encoding: b'04EXIT'\n",
      "The server sent data len: 1024\n",
      " data: rver exiting now...\n"
     ]
    }
   ],
   "source": [
    "import socket\n",
    "import pdb\n",
    "\n",
    "user_input = ''\n",
    "while not 'exit' in user_input.lower():    \n",
    "    s = socket.socket()\n",
    "    s.connect(('127.0.0.1',2030))\n",
    "    \n",
    "    user_input = input(\"Client's message to the server:\")\n",
    "    \n",
    "    if user_input:\n",
    "        append_number = input('Append the number of characters to the message?')\n",
    "        if 'yes' in append_number.lower():\n",
    "            user_input_len = str(len(user_input)).zfill(2)\n",
    "            user_input = user_input_len + user_input\n",
    "        \n",
    "        print(f'Send the following message to the server: {user_input}')\n",
    "        \n",
    "        user_input_encoded = user_input.encode()\n",
    "        print(f\"User input after encoding: {user_input_encoded}\")\n",
    "        s.send(user_input_encoded)\n",
    "        data_len = s.recv(2).decode()\n",
    "        data_len = int(data_len) if data_len.isdigit() else 1024 \n",
    "        data = s.recv(data_len).decode()\n",
    "        \n",
    "        print(f'The server sent data len: {data_len}\\n data: {data}')\n",
    "    else:\n",
    "        print('try again...')\n",
    "        \n",
    "s.close()"
   ]
  },
  {
   "cell_type": "code",
   "execution_count": null,
   "id": "d1503eb4",
   "metadata": {},
   "outputs": [],
   "source": []
  }
 ],
 "metadata": {
  "kernelspec": {
   "display_name": "Python 3 (ipykernel)",
   "language": "python",
   "name": "python3"
  },
  "language_info": {
   "codemirror_mode": {
    "name": "ipython",
    "version": 3
   },
   "file_extension": ".py",
   "mimetype": "text/x-python",
   "name": "python",
   "nbconvert_exporter": "python",
   "pygments_lexer": "ipython3",
   "version": "3.11.5"
  }
 },
 "nbformat": 4,
 "nbformat_minor": 5
}
