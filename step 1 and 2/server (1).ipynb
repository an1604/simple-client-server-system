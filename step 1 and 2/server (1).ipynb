{
 "cells": [
  {
   "cell_type": "code",
   "execution_count": 1,
   "id": "b646e520-d427-40e9-8614-68a6f137b565",
   "metadata": {
    "tags": []
   },
   "outputs": [
    {
     "name": "stdout",
     "output_type": "stream",
     "text": [
      "Server main socket is about to bind 127.0.0.1:2030\n",
      "Server is listening on 127.0.0.1:2030\n",
      "Client hits the server!\n",
      "Client hits the server!\n",
      "Client hits the server!\n",
      "Received len: 04\n",
      " data: TIME\n",
      "Client hits the server!\n",
      "Received len: 05\n",
      " data: WHORU\n",
      "Client hits the server!\n",
      "Client hits the server!\n",
      "Received len: 04\n",
      " data: EXIT\n"
     ]
    }
   ],
   "source": [
    "from datetime import datetime\n",
    "import random\n",
    "import socket\n",
    "\n",
    "# TCP server \n",
    "HOST = '127.0.0.1'\n",
    "PORT = 2030\n",
    "\n",
    "def get_time():\n",
    "    return datetime.now().strftime(\"%Y-%m-%d %H:%M:%S\")\n",
    "\n",
    "def get_rand_number():\n",
    "    return str(random.randint(1, 10))\n",
    "\n",
    "\n",
    "LOOKUP_MISSIONS = {\n",
    "    'TIME': get_time,      # Changed to reference the function without calling it\n",
    "    'WHORU': 'I am the best server ever!',\n",
    "    'RAND': get_rand_number,  # Changed to reference the function without calling it\n",
    "    'EXIT': 'Server exiting now...'\n",
    "}\n",
    "\n",
    "# The main socket that will bind to the HOST and PORT\n",
    "server_sock = socket.socket(socket.AF_INET, socket.SOCK_STREAM)\n",
    "\n",
    "print(f'Server main socket is about to bind {HOST}:{PORT}')\n",
    "server_sock.bind((HOST, PORT))\n",
    "\n",
    "server_sock.listen()\n",
    "print(f'Server is listening on {HOST}:{PORT}')\n",
    "\n",
    "while True:\n",
    "    client_socket, client_address = server_sock.accept()\n",
    "    print(\"Client hits the server!\")\n",
    "    response = \"wrong protocol\"\n",
    "    \n",
    "    data_len = client_socket.recv(2).decode()\n",
    "    if data_len.isdigit():\n",
    "        data = client_socket.recv(int(data_len)).decode()\n",
    "        print(f\"Received len: {data_len}\\n data: {data}\")\n",
    "        if data in LOOKUP_MISSIONS.keys():\n",
    "            if callable(LOOKUP_MISSIONS[data]):  # Check if the value is a function\n",
    "                response = LOOKUP_MISSIONS[data]()  # Call the function dynamically\n",
    "            else:\n",
    "                response = LOOKUP_MISSIONS[data]\n",
    "            # Handle the exit scenario\n",
    "            if 'exit' in data.lower():\n",
    "                client_socket.sendall(str(response).encode())\n",
    "                client_socket.close()\n",
    "                break\n",
    "        else:\n",
    "            response = \"wrong protocol\"\n",
    "            \n",
    "    response = str(response) if isinstance(response, str) else response\n",
    "    response_len = str(len(response)).zfill(2)\n",
    "    response = response_len + response\n",
    "    # Send the generated response\n",
    "    client_socket.sendall(response.encode())\n",
    "    # Freeing the resources for the next connection\n",
    "    # client_socket.close()  # Don't close the connection immediately\n",
    "\n",
    "server_sock.close()"
   ]
  },
  {
   "cell_type": "code",
   "execution_count": null,
   "id": "8c2be011-6704-4ac9-b029-e0f2680444d5",
   "metadata": {},
   "outputs": [],
   "source": []
  }
 ],
 "metadata": {
  "kernelspec": {
   "display_name": "Python 3 (ipykernel)",
   "language": "python",
   "name": "python3"
  },
  "language_info": {
   "codemirror_mode": {
    "name": "ipython",
    "version": 3
   },
   "file_extension": ".py",
   "mimetype": "text/x-python",
   "name": "python",
   "nbconvert_exporter": "python",
   "pygments_lexer": "ipython3",
   "version": "3.11.5"
  }
 },
 "nbformat": 4,
 "nbformat_minor": 5
}
